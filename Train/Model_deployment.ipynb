{
 "cells": [
  {
   "cell_type": "code",
   "execution_count": 1,
   "metadata": {},
   "outputs": [],
   "source": [
    "# Importing libraries\n",
    "import numpy as np # linear algebra\n",
    "import pandas as pd # data processing, CSV file I/O (e.g. pd.read_csv)\n",
    "import os\n",
    "from PIL import Image\n",
    "from keras.preprocessing import image\n",
    "import cv2\n",
    "import mediapipe as mp\n",
    "import csv"
   ]
  },
  {
   "cell_type": "code",
   "execution_count": 3,
   "metadata": {},
   "outputs": [
    {
     "data": {
      "text/plain": [
       "'c:\\\\Users\\\\Gokul\\\\Documents\\\\Pose_detection_project'"
      ]
     },
     "execution_count": 3,
     "metadata": {},
     "output_type": "execute_result"
    }
   ],
   "source": [
    "current_directory = os.getcwd()"
   ]
  },
  {
   "cell_type": "code",
   "execution_count": 12,
   "metadata": {},
   "outputs": [
    {
     "data": {
      "text/plain": [
       "'c:\\\\Users\\\\Gokul\\\\Documents\\\\Pose_detection_project\\\\DATASET\\\\TEST\\\\warrior2\\x0000003.jpg'"
      ]
     },
     "execution_count": 12,
     "metadata": {},
     "output_type": "execute_result"
    }
   ],
   "source": [
    "# Image to be detected\n",
    "path_of_image = os.path.join(current_directory, 'DATASET/TEST/warrior2/00000003.jpg')\n",
    "# path_of_image = \"C:/Users/Gokul/Desktop/Project/DATASET/TEST/warrior2/00000003.jpg\""
   ]
  },
  {
   "cell_type": "code",
   "execution_count": 21,
   "metadata": {},
   "outputs": [
    {
     "name": "stderr",
     "output_type": "stream",
     "text": [
      "WARNING:absl:Compiled the loaded model, but the compiled metrics have yet to be built. `model.compile_metrics` will be empty until you train or evaluate the model.\n"
     ]
    }
   ],
   "source": [
    "#Importing trained models\n",
    "from keras.models import load_model\n",
    "from keras.applications.vgg16 import preprocess_input\n",
    "import pickle\n",
    "\n",
    "model_path_cnn = os.path.join(current_directory, 'network.h5')\n",
    "model_path_rf = os.path.join(current_directory, 'body_language.pkl')\n",
    "\n",
    "model = load_model(model_path_cnn) # CNN model\n",
    "\n",
    "# with open('C:/Users/Gokul/Desktop/Project/body_language.pkl', 'rb') as f:\n",
    "#     model2 = pickle.load(f) # Randomforest model\n",
    "\n",
    "with open(model_path_rf, 'rb') as f:\n",
    "    model2 = pickle.load(f)\n"
   ]
  },
  {
   "cell_type": "code",
   "execution_count": 16,
   "metadata": {},
   "outputs": [],
   "source": [
    "# Function to process an image and extract landmarks\n",
    "def process_image(image_path,holistic):\n",
    "    image = cv2.imread(image_path)\n",
    "    if image is None:\n",
    "        print(f\"Unable to read image: {image_path}\")\n",
    "        return\n",
    "\n",
    "    # Convert image to RGB\n",
    "    image_rgb = cv2.cvtColor(image, cv2.COLOR_BGR2RGB)\n",
    "\n",
    "    # Make Detections\n",
    "    results = holistic.process(image_rgb)\n",
    "\n",
    "    num_coords = len(results.pose_landmarks.landmark)+len(results.face_landmarks.landmark)\n",
    "    landmarks = []\n",
    "    for val in range(1, num_coords+1):\n",
    "        landmarks += ['x{}'.format(val), 'y{}'.format(val), 'z{}'.format(val), 'v{}'.format(val)]\n",
    "\n",
    "    full_path_of_csv = os.path.join(current_directory, \"cordi.csv\")\n",
    "\n",
    "    with open(full_path_of_csv, mode='w', newline='') as f:\n",
    "        csv_writer = csv.writer(f, delimiter=',', quotechar='\"', quoting=csv.QUOTE_MINIMAL)\n",
    "        csv_writer.writerow(landmarks)\n",
    "    f.close()\n",
    "\n",
    "    # points = pd.DataFrame(columns=landmarks)\n",
    "\n",
    "    try:\n",
    "        # Extract Pose landmarks\n",
    "        pose = results.pose_landmarks.landmark\n",
    "        pose_row = list(np.array([[landmark.x, landmark.y, landmark.z, landmark.visibility] for landmark in pose]).flatten())\n",
    "        \n",
    "        # Extract Face landmarks\n",
    "        face = results.face_landmarks.landmark\n",
    "        face_row = list(np.array([[landmark.x, landmark.y, landmark.z, landmark.visibility] for landmark in face]).flatten())\n",
    "        \n",
    "        # Concate rows\n",
    "        row = pose_row + face_row\n",
    "        # return row\n",
    "\n",
    "        # points = points._append(row,ignore_index = False)\n",
    "        \n",
    "        # Append class name \n",
    "        # row.insert(0, class_name)\n",
    "\n",
    "        # # Export to CSV\n",
    "        with open(full_path_of_csv, mode='a', newline='') as f:\n",
    "            csv_writer = csv.writer(f, delimiter=',', quotechar='\"', quoting=csv.QUOTE_MINIMAL)\n",
    "            csv_writer.writerow(row) \n",
    "    except Exception as e:\n",
    "        print(f\"Error processing image {image_path}: {e}\")\n",
    "    # return points\n",
    "\n",
    "# Release resources\n",
    "    holistic.close()"
   ]
  },
  {
   "cell_type": "code",
   "execution_count": 17,
   "metadata": {},
   "outputs": [],
   "source": [
    "# Initialize holistic model\n",
    "mp_drawing = mp.solutions.drawing_utils\n",
    "mp_holistic = mp.solutions.holistic\n",
    "holistics = mp_holistic.Holistic(min_detection_confidence=0.5, min_tracking_confidence=0.5)\n",
    "process_image(path_of_image,holistics)"
   ]
  },
  {
   "cell_type": "code",
   "execution_count": 19,
   "metadata": {},
   "outputs": [
    {
     "data": {
      "text/html": [
       "<div>\n",
       "<style scoped>\n",
       "    .dataframe tbody tr th:only-of-type {\n",
       "        vertical-align: middle;\n",
       "    }\n",
       "\n",
       "    .dataframe tbody tr th {\n",
       "        vertical-align: top;\n",
       "    }\n",
       "\n",
       "    .dataframe thead th {\n",
       "        text-align: right;\n",
       "    }\n",
       "</style>\n",
       "<table border=\"1\" class=\"dataframe\">\n",
       "  <thead>\n",
       "    <tr style=\"text-align: right;\">\n",
       "      <th></th>\n",
       "      <th>x1</th>\n",
       "      <th>y1</th>\n",
       "      <th>z1</th>\n",
       "      <th>v1</th>\n",
       "      <th>x2</th>\n",
       "      <th>y2</th>\n",
       "      <th>z2</th>\n",
       "      <th>v2</th>\n",
       "      <th>x3</th>\n",
       "      <th>y3</th>\n",
       "      <th>...</th>\n",
       "      <th>z499</th>\n",
       "      <th>v499</th>\n",
       "      <th>x500</th>\n",
       "      <th>y500</th>\n",
       "      <th>z500</th>\n",
       "      <th>v500</th>\n",
       "      <th>x501</th>\n",
       "      <th>y501</th>\n",
       "      <th>z501</th>\n",
       "      <th>v501</th>\n",
       "    </tr>\n",
       "  </thead>\n",
       "  <tbody>\n",
       "    <tr>\n",
       "      <th>0</th>\n",
       "      <td>0.461584</td>\n",
       "      <td>0.128652</td>\n",
       "      <td>-0.196279</td>\n",
       "      <td>0.99978</td>\n",
       "      <td>0.477099</td>\n",
       "      <td>0.110123</td>\n",
       "      <td>-0.189061</td>\n",
       "      <td>0.99846</td>\n",
       "      <td>0.481574</td>\n",
       "      <td>0.111407</td>\n",
       "      <td>...</td>\n",
       "      <td>-0.00188</td>\n",
       "      <td>0.0</td>\n",
       "      <td>0.473865</td>\n",
       "      <td>0.102954</td>\n",
       "      <td>-0.011354</td>\n",
       "      <td>0.0</td>\n",
       "      <td>0.475884</td>\n",
       "      <td>0.100551</td>\n",
       "      <td>-0.012321</td>\n",
       "      <td>0.0</td>\n",
       "    </tr>\n",
       "  </tbody>\n",
       "</table>\n",
       "<p>1 rows × 2004 columns</p>\n",
       "</div>"
      ],
      "text/plain": [
       "         x1        y1        z1       v1        x2        y2        z2  \\\n",
       "0  0.461584  0.128652 -0.196279  0.99978  0.477099  0.110123 -0.189061   \n",
       "\n",
       "        v2        x3        y3  ...     z499  v499      x500      y500  \\\n",
       "0  0.99846  0.481574  0.111407  ... -0.00188   0.0  0.473865  0.102954   \n",
       "\n",
       "       z500  v500      x501      y501      z501  v501  \n",
       "0 -0.011354   0.0  0.475884  0.100551 -0.012321   0.0  \n",
       "\n",
       "[1 rows x 2004 columns]"
      ]
     },
     "execution_count": 19,
     "metadata": {},
     "output_type": "execute_result"
    }
   ],
   "source": [
    "full_path_of_csv = os.path.join(current_directory, \"cordi.csv\")\n",
    "df = pd.read_csv(full_path_of_csv) # coordinates obtained\n",
    "df"
   ]
  },
  {
   "cell_type": "code",
   "execution_count": 26,
   "metadata": {},
   "outputs": [
    {
     "name": "stdout",
     "output_type": "stream",
     "text": [
      "\u001b[1m1/1\u001b[0m \u001b[32m━━━━━━━━━━━━━━━━━━━━\u001b[0m\u001b[37m\u001b[0m \u001b[1m0s\u001b[0m 276ms/step\n"
     ]
    },
    {
     "data": {
      "text/plain": [
       "['warrior']"
      ]
     },
     "execution_count": 26,
     "metadata": {},
     "output_type": "execute_result"
    }
   ],
   "source": [
    "# CNN model Output\n",
    "from keras.preprocessing import image\n",
    "img2 = image.load_img(path_of_image, target_size=(224, 224))\n",
    "x = image.img_to_array(img2)\n",
    "x = np.expand_dims(x, axis=0)\n",
    "img_data = preprocess_input(x)\n",
    "classes = model.predict(img_data)\n",
    "classname = [\"downdog\",\"Goddess\",\"plank\",\"tree\",\"warrior\"]\n",
    "\n",
    "predicted_classes = [classname[classes.argmax()] for prediction in classes]\n",
    "predicted_classes\n",
    "# print(classname)\n",
    "# print(classes) "
   ]
  },
  {
   "cell_type": "code",
   "execution_count": 27,
   "metadata": {},
   "outputs": [
    {
     "data": {
      "text/plain": [
       "array(['warrior'], dtype=object)"
      ]
     },
     "execution_count": 27,
     "metadata": {},
     "output_type": "execute_result"
    }
   ],
   "source": [
    "# Randomforest Classifier Output\n",
    "pred2 = model2.predict(df)\n",
    "pred2"
   ]
  },
  {
   "cell_type": "code",
   "execution_count": 28,
   "metadata": {},
   "outputs": [],
   "source": [
    "# Display output on a window\n",
    "# Load the image\n",
    "final = cv2.imread(path_of_image)\n",
    "\n",
    "# Create a named window\n",
    "cv2.namedWindow(\"Output\", cv2.WINDOW_NORMAL)\n",
    "# Set the window size (width, height)\n",
    "window_size = (800, 600)\n",
    "cv2.resizeWindow(\"Output\", *window_size)\n",
    "\n",
    "f2 = cv2.resize(final,window_size)\n",
    "\n",
    "cv2.putText(f2,f\"The prediction using CNN is {classes}.\",(10,20),cv2.FONT_HERSHEY_PLAIN, 0.7, (0, 0, 0), 1)\n",
    "cv2.putText(f2,f\"The prediction using RandomForest classifier is {pred2[0]}.\",(10,40),cv2.FONT_HERSHEY_PLAIN, 0.7, (0, 0, 0), 1)\n",
    "cv2.imshow(\"Output\",f2)\n",
    "# Wait for a key press\n",
    "cv2.waitKey(0)\n",
    "\n",
    "# Close the window\n",
    "cv2.destroyAllWindows()"
   ]
  }
 ],
 "metadata": {
  "kernelspec": {
   "display_name": "Python 3",
   "language": "python",
   "name": "python3"
  },
  "language_info": {
   "codemirror_mode": {
    "name": "ipython",
    "version": 3
   },
   "file_extension": ".py",
   "mimetype": "text/x-python",
   "name": "python",
   "nbconvert_exporter": "python",
   "pygments_lexer": "ipython3",
   "version": "3.11.5"
  }
 },
 "nbformat": 4,
 "nbformat_minor": 2
}
